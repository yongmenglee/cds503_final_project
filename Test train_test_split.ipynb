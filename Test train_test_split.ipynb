{
 "cells": [
  {
   "cell_type": "code",
   "execution_count": 16,
   "metadata": {},
   "outputs": [],
   "source": [
    "import pandas as pd\n",
    "import numpy as np\n",
    "\n",
    "from sklearn.model_selection import train_test_split"
   ]
  },
  {
   "cell_type": "code",
   "execution_count": 17,
   "metadata": {},
   "outputs": [],
   "source": [
    "data = np.transpose([[1,2,3,4,5,6,7,8,9,10], [10,9,8,7,6,5,4,3,2,1], [1,3,2,5,4,6,7,8,4,3]])"
   ]
  },
  {
   "cell_type": "code",
   "execution_count": 20,
   "metadata": {},
   "outputs": [],
   "source": [
    "df_test = pd.DataFrame(data=data, columns=['X', 'Y', 'Z'])"
   ]
  },
  {
   "cell_type": "code",
   "execution_count": 21,
   "metadata": {},
   "outputs": [
    {
     "data": {
      "text/html": [
       "<div>\n",
       "<style scoped>\n",
       "    .dataframe tbody tr th:only-of-type {\n",
       "        vertical-align: middle;\n",
       "    }\n",
       "\n",
       "    .dataframe tbody tr th {\n",
       "        vertical-align: top;\n",
       "    }\n",
       "\n",
       "    .dataframe thead th {\n",
       "        text-align: right;\n",
       "    }\n",
       "</style>\n",
       "<table border=\"1\" class=\"dataframe\">\n",
       "  <thead>\n",
       "    <tr style=\"text-align: right;\">\n",
       "      <th></th>\n",
       "      <th>X</th>\n",
       "      <th>Y</th>\n",
       "      <th>Z</th>\n",
       "    </tr>\n",
       "  </thead>\n",
       "  <tbody>\n",
       "    <tr>\n",
       "      <th>0</th>\n",
       "      <td>1</td>\n",
       "      <td>10</td>\n",
       "      <td>1</td>\n",
       "    </tr>\n",
       "    <tr>\n",
       "      <th>1</th>\n",
       "      <td>2</td>\n",
       "      <td>9</td>\n",
       "      <td>3</td>\n",
       "    </tr>\n",
       "    <tr>\n",
       "      <th>2</th>\n",
       "      <td>3</td>\n",
       "      <td>8</td>\n",
       "      <td>2</td>\n",
       "    </tr>\n",
       "    <tr>\n",
       "      <th>3</th>\n",
       "      <td>4</td>\n",
       "      <td>7</td>\n",
       "      <td>5</td>\n",
       "    </tr>\n",
       "    <tr>\n",
       "      <th>4</th>\n",
       "      <td>5</td>\n",
       "      <td>6</td>\n",
       "      <td>4</td>\n",
       "    </tr>\n",
       "    <tr>\n",
       "      <th>5</th>\n",
       "      <td>6</td>\n",
       "      <td>5</td>\n",
       "      <td>6</td>\n",
       "    </tr>\n",
       "    <tr>\n",
       "      <th>6</th>\n",
       "      <td>7</td>\n",
       "      <td>4</td>\n",
       "      <td>7</td>\n",
       "    </tr>\n",
       "    <tr>\n",
       "      <th>7</th>\n",
       "      <td>8</td>\n",
       "      <td>3</td>\n",
       "      <td>8</td>\n",
       "    </tr>\n",
       "    <tr>\n",
       "      <th>8</th>\n",
       "      <td>9</td>\n",
       "      <td>2</td>\n",
       "      <td>4</td>\n",
       "    </tr>\n",
       "    <tr>\n",
       "      <th>9</th>\n",
       "      <td>10</td>\n",
       "      <td>1</td>\n",
       "      <td>3</td>\n",
       "    </tr>\n",
       "  </tbody>\n",
       "</table>\n",
       "</div>"
      ],
      "text/plain": [
       "    X   Y  Z\n",
       "0   1  10  1\n",
       "1   2   9  3\n",
       "2   3   8  2\n",
       "3   4   7  5\n",
       "4   5   6  4\n",
       "5   6   5  6\n",
       "6   7   4  7\n",
       "7   8   3  8\n",
       "8   9   2  4\n",
       "9  10   1  3"
      ]
     },
     "execution_count": 21,
     "metadata": {},
     "output_type": "execute_result"
    }
   ],
   "source": [
    "df_test"
   ]
  },
  {
   "cell_type": "code",
   "execution_count": 30,
   "metadata": {},
   "outputs": [],
   "source": [
    "x_train, _, _, _ = train_test_split(df_test[['X', 'Y']], df_test['Z'], \n",
    "                                    train_size=0.30, random_state=0)\n",
    "print(x_train)"
   ]
  },
  {
   "cell_type": "code",
   "execution_count": 33,
   "metadata": {},
   "outputs": [
    {
     "name": "stdout",
     "output_type": "stream",
     "text": [
      "   X  Y\n",
      "5  6  5\n",
      "\n",
      "   X   Y\n",
      "0  1  10\n",
      "5  6   5\n",
      "\n",
      "   X   Y\n",
      "3  4   7\n",
      "0  1  10\n",
      "5  6   5\n",
      "\n",
      "   X   Y\n",
      "7  8   3\n",
      "3  4   7\n",
      "0  1  10\n",
      "5  6   5\n",
      "\n",
      "   X   Y\n",
      "6  7   4\n",
      "7  8   3\n",
      "3  4   7\n",
      "0  1  10\n",
      "5  6   5\n",
      "\n",
      "   X   Y\n",
      "1  2   9\n",
      "6  7   4\n",
      "7  8   3\n",
      "3  4   7\n",
      "0  1  10\n",
      "5  6   5\n",
      "\n",
      "    X   Y\n",
      "9  10   1\n",
      "1   2   9\n",
      "6   7   4\n",
      "7   8   3\n",
      "3   4   7\n",
      "0   1  10\n",
      "5   6   5\n",
      "\n",
      "    X   Y\n",
      "4   5   6\n",
      "9  10   1\n",
      "1   2   9\n",
      "6   7   4\n",
      "7   8   3\n",
      "3   4   7\n",
      "0   1  10\n",
      "5   6   5\n",
      "\n",
      "    X   Y\n",
      "8   9   2\n",
      "4   5   6\n",
      "9  10   1\n",
      "1   2   9\n",
      "6   7   4\n",
      "7   8   3\n",
      "3   4   7\n",
      "0   1  10\n",
      "5   6   5\n",
      "\n"
     ]
    }
   ],
   "source": [
    "for i in range(9):\n",
    "    x_train, _, _, _ = train_test_split(df_test[['X', 'Y']], df_test['Z'], \n",
    "                                    train_size=(i+1)/10, random_state=0)\n",
    "    print(x_train)\n",
    "    print()"
   ]
  },
  {
   "cell_type": "code",
   "execution_count": null,
   "metadata": {},
   "outputs": [],
   "source": []
  }
 ],
 "metadata": {
  "kernelspec": {
   "display_name": "Python 3",
   "language": "python",
   "name": "python3"
  },
  "language_info": {
   "codemirror_mode": {
    "name": "ipython",
    "version": 3
   },
   "file_extension": ".py",
   "mimetype": "text/x-python",
   "name": "python",
   "nbconvert_exporter": "python",
   "pygments_lexer": "ipython3",
   "version": "3.7.4"
  }
 },
 "nbformat": 4,
 "nbformat_minor": 2
}
